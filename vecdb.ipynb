{
 "cells": [
  {
   "cell_type": "code",
   "execution_count": 1,
   "metadata": {},
   "outputs": [
    {
     "name": "stdout",
     "output_type": "stream",
     "text": [
      "Requirement already satisfied: sentence-transformers in ./new/lib/python3.11/site-packages (3.0.0)\n",
      "Requirement already satisfied: qdrant-client==1.3.2 in ./new/lib/python3.11/site-packages (1.3.2)\n",
      "Requirement already satisfied: httpx[http2]>=0.14.0 in ./new/lib/python3.11/site-packages (from qdrant-client==1.3.2) (0.27.0)\n",
      "Requirement already satisfied: urllib3<2.0.0,>=1.26.14 in ./new/lib/python3.11/site-packages (from qdrant-client==1.3.2) (1.26.18)\n",
      "Requirement already satisfied: grpcio>=1.41.0 in ./new/lib/python3.11/site-packages (from qdrant-client==1.3.2) (1.64.0)\n",
      "Requirement already satisfied: numpy>=1.21 in ./new/lib/python3.11/site-packages (from qdrant-client==1.3.2) (1.26.4)\n",
      "Requirement already satisfied: grpcio-tools>=1.41.0 in ./new/lib/python3.11/site-packages (from qdrant-client==1.3.2) (1.64.0)\n",
      "Requirement already satisfied: portalocker<3.0.0,>=2.7.0 in ./new/lib/python3.11/site-packages (from qdrant-client==1.3.2) (2.8.2)\n",
      "Requirement already satisfied: pydantic>=1.10.8 in ./new/lib/python3.11/site-packages (from qdrant-client==1.3.2) (2.7.2)\n",
      "Requirement already satisfied: tqdm in ./new/lib/python3.11/site-packages (from sentence-transformers) (4.66.4)\n",
      "Requirement already satisfied: transformers<5.0.0,>=4.34.0 in ./new/lib/python3.11/site-packages (from sentence-transformers) (4.41.1)\n",
      "Requirement already satisfied: huggingface-hub>=0.15.1 in ./new/lib/python3.11/site-packages (from sentence-transformers) (0.23.2)\n",
      "Requirement already satisfied: scikit-learn in ./new/lib/python3.11/site-packages (from sentence-transformers) (1.5.0)\n",
      "Requirement already satisfied: Pillow in ./new/lib/python3.11/site-packages (from sentence-transformers) (10.3.0)\n",
      "Requirement already satisfied: scipy in ./new/lib/python3.11/site-packages (from sentence-transformers) (1.13.1)\n",
      "Requirement already satisfied: torch>=1.11.0 in ./new/lib/python3.11/site-packages (from sentence-transformers) (2.3.0)\n",
      "Requirement already satisfied: setuptools in ./new/lib/python3.11/site-packages (from grpcio-tools>=1.41.0->qdrant-client==1.3.2) (59.6.0)\n",
      "Requirement already satisfied: protobuf<6.0dev,>=5.26.1 in ./new/lib/python3.11/site-packages (from grpcio-tools>=1.41.0->qdrant-client==1.3.2) (5.27.0)\n",
      "Requirement already satisfied: certifi in ./new/lib/python3.11/site-packages (from httpx[http2]>=0.14.0->qdrant-client==1.3.2) (2024.2.2)\n",
      "Requirement already satisfied: httpcore==1.* in ./new/lib/python3.11/site-packages (from httpx[http2]>=0.14.0->qdrant-client==1.3.2) (1.0.5)\n",
      "Requirement already satisfied: anyio in ./new/lib/python3.11/site-packages (from httpx[http2]>=0.14.0->qdrant-client==1.3.2) (4.4.0)\n",
      "Requirement already satisfied: sniffio in ./new/lib/python3.11/site-packages (from httpx[http2]>=0.14.0->qdrant-client==1.3.2) (1.3.1)\n",
      "Requirement already satisfied: idna in ./new/lib/python3.11/site-packages (from httpx[http2]>=0.14.0->qdrant-client==1.3.2) (3.7)\n",
      "Requirement already satisfied: h2<5,>=3 in ./new/lib/python3.11/site-packages (from httpx[http2]>=0.14.0->qdrant-client==1.3.2) (4.1.0)\n",
      "Requirement already satisfied: h11<0.15,>=0.13 in ./new/lib/python3.11/site-packages (from httpcore==1.*->httpx[http2]>=0.14.0->qdrant-client==1.3.2) (0.14.0)\n",
      "Requirement already satisfied: requests in ./new/lib/python3.11/site-packages (from huggingface-hub>=0.15.1->sentence-transformers) (2.32.2)\n",
      "Requirement already satisfied: typing-extensions>=3.7.4.3 in ./new/lib/python3.11/site-packages (from huggingface-hub>=0.15.1->sentence-transformers) (4.12.0)\n",
      "Requirement already satisfied: pyyaml>=5.1 in ./new/lib/python3.11/site-packages (from huggingface-hub>=0.15.1->sentence-transformers) (6.0.1)\n",
      "Requirement already satisfied: fsspec>=2023.5.0 in ./new/lib/python3.11/site-packages (from huggingface-hub>=0.15.1->sentence-transformers) (2024.3.1)\n",
      "Requirement already satisfied: packaging>=20.9 in ./new/lib/python3.11/site-packages (from huggingface-hub>=0.15.1->sentence-transformers) (23.2)\n",
      "Requirement already satisfied: filelock in ./new/lib/python3.11/site-packages (from huggingface-hub>=0.15.1->sentence-transformers) (3.14.0)\n",
      "Requirement already satisfied: pydantic-core==2.18.3 in ./new/lib/python3.11/site-packages (from pydantic>=1.10.8->qdrant-client==1.3.2) (2.18.3)\n",
      "Requirement already satisfied: annotated-types>=0.4.0 in ./new/lib/python3.11/site-packages (from pydantic>=1.10.8->qdrant-client==1.3.2) (0.7.0)\n",
      "Requirement already satisfied: nvidia-cuda-cupti-cu12==12.1.105 in ./new/lib/python3.11/site-packages (from torch>=1.11.0->sentence-transformers) (12.1.105)\n",
      "Requirement already satisfied: nvidia-cudnn-cu12==8.9.2.26 in ./new/lib/python3.11/site-packages (from torch>=1.11.0->sentence-transformers) (8.9.2.26)\n",
      "Requirement already satisfied: nvidia-cusolver-cu12==11.4.5.107 in ./new/lib/python3.11/site-packages (from torch>=1.11.0->sentence-transformers) (11.4.5.107)\n",
      "Requirement already satisfied: triton==2.3.0 in ./new/lib/python3.11/site-packages (from torch>=1.11.0->sentence-transformers) (2.3.0)\n",
      "Requirement already satisfied: nvidia-nvtx-cu12==12.1.105 in ./new/lib/python3.11/site-packages (from torch>=1.11.0->sentence-transformers) (12.1.105)\n",
      "Requirement already satisfied: nvidia-cufft-cu12==11.0.2.54 in ./new/lib/python3.11/site-packages (from torch>=1.11.0->sentence-transformers) (11.0.2.54)\n",
      "Requirement already satisfied: nvidia-curand-cu12==10.3.2.106 in ./new/lib/python3.11/site-packages (from torch>=1.11.0->sentence-transformers) (10.3.2.106)\n",
      "Requirement already satisfied: sympy in ./new/lib/python3.11/site-packages (from torch>=1.11.0->sentence-transformers) (1.12)\n",
      "Requirement already satisfied: networkx in ./new/lib/python3.11/site-packages (from torch>=1.11.0->sentence-transformers) (3.3)\n",
      "Requirement already satisfied: nvidia-cuda-runtime-cu12==12.1.105 in ./new/lib/python3.11/site-packages (from torch>=1.11.0->sentence-transformers) (12.1.105)\n",
      "Requirement already satisfied: nvidia-cusparse-cu12==12.1.0.106 in ./new/lib/python3.11/site-packages (from torch>=1.11.0->sentence-transformers) (12.1.0.106)\n",
      "Requirement already satisfied: nvidia-nccl-cu12==2.20.5 in ./new/lib/python3.11/site-packages (from torch>=1.11.0->sentence-transformers) (2.20.5)\n",
      "Requirement already satisfied: nvidia-cuda-nvrtc-cu12==12.1.105 in ./new/lib/python3.11/site-packages (from torch>=1.11.0->sentence-transformers) (12.1.105)\n",
      "Requirement already satisfied: jinja2 in ./new/lib/python3.11/site-packages (from torch>=1.11.0->sentence-transformers) (3.1.4)\n",
      "Requirement already satisfied: nvidia-cublas-cu12==12.1.3.1 in ./new/lib/python3.11/site-packages (from torch>=1.11.0->sentence-transformers) (12.1.3.1)\n",
      "Requirement already satisfied: nvidia-nvjitlink-cu12 in ./new/lib/python3.11/site-packages (from nvidia-cusolver-cu12==11.4.5.107->torch>=1.11.0->sentence-transformers) (12.5.40)\n",
      "Requirement already satisfied: regex!=2019.12.17 in ./new/lib/python3.11/site-packages (from transformers<5.0.0,>=4.34.0->sentence-transformers) (2024.5.15)\n",
      "Requirement already satisfied: tokenizers<0.20,>=0.19 in ./new/lib/python3.11/site-packages (from transformers<5.0.0,>=4.34.0->sentence-transformers) (0.19.1)\n",
      "Requirement already satisfied: safetensors>=0.4.1 in ./new/lib/python3.11/site-packages (from transformers<5.0.0,>=4.34.0->sentence-transformers) (0.4.3)\n",
      "Requirement already satisfied: joblib>=1.2.0 in ./new/lib/python3.11/site-packages (from scikit-learn->sentence-transformers) (1.4.2)\n",
      "Requirement already satisfied: threadpoolctl>=3.1.0 in ./new/lib/python3.11/site-packages (from scikit-learn->sentence-transformers) (3.5.0)\n",
      "Requirement already satisfied: hpack<5,>=4.0 in ./new/lib/python3.11/site-packages (from h2<5,>=3->httpx[http2]>=0.14.0->qdrant-client==1.3.2) (4.0.0)\n",
      "Requirement already satisfied: hyperframe<7,>=6.0 in ./new/lib/python3.11/site-packages (from h2<5,>=3->httpx[http2]>=0.14.0->qdrant-client==1.3.2) (6.0.1)\n",
      "Requirement already satisfied: MarkupSafe>=2.0 in ./new/lib/python3.11/site-packages (from jinja2->torch>=1.11.0->sentence-transformers) (2.1.5)\n",
      "Requirement already satisfied: charset-normalizer<4,>=2 in ./new/lib/python3.11/site-packages (from requests->huggingface-hub>=0.15.1->sentence-transformers) (3.3.2)\n",
      "Requirement already satisfied: mpmath>=0.19 in ./new/lib/python3.11/site-packages (from sympy->torch>=1.11.0->sentence-transformers) (1.3.0)\n",
      "Note: you may need to restart the kernel to use updated packages.\n"
     ]
    }
   ],
   "source": [
    "%pip install sentence-transformers qdrant-client==1.3.2"
   ]
  },
  {
   "cell_type": "code",
   "execution_count": 2,
   "metadata": {},
   "outputs": [
    {
     "name": "stderr",
     "output_type": "stream",
     "text": [
      "/workspace/ABCFinance/new/lib/python3.11/site-packages/sentence_transformers/cross_encoder/CrossEncoder.py:11: TqdmExperimentalWarning: Using `tqdm.autonotebook.tqdm` in notebook mode. Use `tqdm.tqdm` instead to force console mode (e.g. in jupyter console)\n",
      "  from tqdm.autonotebook import tqdm, trange\n"
     ]
    }
   ],
   "source": [
    "import csv\n",
    "from sentence_transformers import SentenceTransformer\n",
    "from qdrant_client import QdrantClient, models, conversions\n",
    "from tqdm.notebook import tqdm"
   ]
  },
  {
   "cell_type": "code",
   "execution_count": 3,
   "metadata": {},
   "outputs": [],
   "source": [
    "client = QdrantClient(path=\"investopedia.db\")"
   ]
  },
  {
   "cell_type": "code",
   "execution_count": 4,
   "metadata": {},
   "outputs": [
    {
     "name": "stderr",
     "output_type": "stream",
     "text": [
      "/workspace/ABCFinance/new/lib/python3.11/site-packages/huggingface_hub/file_download.py:1132: FutureWarning: `resume_download` is deprecated and will be removed in version 1.0.0. Downloads always resume when possible. If you want to force a new download, use `force_download=True`.\n",
      "  warnings.warn(\n"
     ]
    }
   ],
   "source": [
    "encoder = SentenceTransformer(\"all-MiniLM-L6-v2\") #embedding model"
   ]
  },
  {
   "cell_type": "code",
   "execution_count": 5,
   "metadata": {},
   "outputs": [
    {
     "data": {
      "text/plain": [
       "True"
      ]
     },
     "execution_count": 5,
     "metadata": {},
     "output_type": "execute_result"
    }
   ],
   "source": [
    "client.recreate_collection(\n",
    "    collection_name=\"investopedia\",\n",
    "    vectors_config=models.VectorParams(\n",
    "        size=encoder.get_sentence_embedding_dimension(),  # Vector size is defined by used model\n",
    "        distance=models.Distance.COSINE,\n",
    "    ),\n",
    ")"
   ]
  },
  {
   "cell_type": "code",
   "execution_count": 6,
   "metadata": {},
   "outputs": [
    {
     "name": "stdout",
     "output_type": "stream",
     "text": [
      "Requirement already satisfied: ipywidgets in ./new/lib/python3.11/site-packages (8.1.3)\n",
      "Requirement already satisfied: datasets in ./new/lib/python3.11/site-packages (2.19.1)\n",
      "Requirement already satisfied: widgetsnbextension~=4.0.11 in ./new/lib/python3.11/site-packages (from ipywidgets) (4.0.11)\n",
      "Requirement already satisfied: jupyterlab-widgets~=3.0.11 in ./new/lib/python3.11/site-packages (from ipywidgets) (3.0.11)\n",
      "Requirement already satisfied: traitlets>=4.3.1 in ./new/lib/python3.11/site-packages (from ipywidgets) (5.14.3)\n",
      "Requirement already satisfied: comm>=0.1.3 in ./new/lib/python3.11/site-packages (from ipywidgets) (0.2.2)\n",
      "Requirement already satisfied: ipython>=6.1.0 in ./new/lib/python3.11/site-packages (from ipywidgets) (8.24.0)\n",
      "Requirement already satisfied: packaging in ./new/lib/python3.11/site-packages (from datasets) (23.2)\n",
      "Requirement already satisfied: xxhash in ./new/lib/python3.11/site-packages (from datasets) (3.4.1)\n",
      "Requirement already satisfied: aiohttp in ./new/lib/python3.11/site-packages (from datasets) (3.9.5)\n",
      "Requirement already satisfied: pyyaml>=5.1 in ./new/lib/python3.11/site-packages (from datasets) (6.0.1)\n",
      "Requirement already satisfied: dill<0.3.9,>=0.3.0 in ./new/lib/python3.11/site-packages (from datasets) (0.3.8)\n",
      "Requirement already satisfied: huggingface-hub>=0.21.2 in ./new/lib/python3.11/site-packages (from datasets) (0.23.2)\n",
      "Requirement already satisfied: numpy>=1.17 in ./new/lib/python3.11/site-packages (from datasets) (1.26.4)\n",
      "Requirement already satisfied: pyarrow>=12.0.0 in ./new/lib/python3.11/site-packages (from datasets) (16.1.0)\n",
      "Requirement already satisfied: filelock in ./new/lib/python3.11/site-packages (from datasets) (3.14.0)\n",
      "Requirement already satisfied: requests>=2.19.0 in ./new/lib/python3.11/site-packages (from datasets) (2.32.2)\n",
      "Requirement already satisfied: tqdm>=4.62.1 in ./new/lib/python3.11/site-packages (from datasets) (4.66.4)\n",
      "Requirement already satisfied: multiprocess in ./new/lib/python3.11/site-packages (from datasets) (0.70.16)\n",
      "Requirement already satisfied: pyarrow-hotfix in ./new/lib/python3.11/site-packages (from datasets) (0.6)\n",
      "Requirement already satisfied: pandas in ./new/lib/python3.11/site-packages (from datasets) (2.2.2)\n",
      "Requirement already satisfied: fsspec[http]<=2024.3.1,>=2023.1.0 in ./new/lib/python3.11/site-packages (from datasets) (2024.3.1)\n",
      "Requirement already satisfied: yarl<2.0,>=1.0 in ./new/lib/python3.11/site-packages (from aiohttp->datasets) (1.9.4)\n",
      "Requirement already satisfied: attrs>=17.3.0 in ./new/lib/python3.11/site-packages (from aiohttp->datasets) (23.2.0)\n",
      "Requirement already satisfied: frozenlist>=1.1.1 in ./new/lib/python3.11/site-packages (from aiohttp->datasets) (1.4.1)\n",
      "Requirement already satisfied: multidict<7.0,>=4.5 in ./new/lib/python3.11/site-packages (from aiohttp->datasets) (6.0.5)\n",
      "Requirement already satisfied: aiosignal>=1.1.2 in ./new/lib/python3.11/site-packages (from aiohttp->datasets) (1.3.1)\n",
      "Requirement already satisfied: typing-extensions>=3.7.4.3 in ./new/lib/python3.11/site-packages (from huggingface-hub>=0.21.2->datasets) (4.12.0)\n",
      "Requirement already satisfied: jedi>=0.16 in ./new/lib/python3.11/site-packages (from ipython>=6.1.0->ipywidgets) (0.19.1)\n",
      "Requirement already satisfied: prompt-toolkit<3.1.0,>=3.0.41 in ./new/lib/python3.11/site-packages (from ipython>=6.1.0->ipywidgets) (3.0.45)\n",
      "Requirement already satisfied: stack-data in ./new/lib/python3.11/site-packages (from ipython>=6.1.0->ipywidgets) (0.6.3)\n",
      "Requirement already satisfied: pexpect>4.3 in ./new/lib/python3.11/site-packages (from ipython>=6.1.0->ipywidgets) (4.9.0)\n",
      "Requirement already satisfied: pygments>=2.4.0 in ./new/lib/python3.11/site-packages (from ipython>=6.1.0->ipywidgets) (2.18.0)\n",
      "Requirement already satisfied: matplotlib-inline in ./new/lib/python3.11/site-packages (from ipython>=6.1.0->ipywidgets) (0.1.7)\n",
      "Requirement already satisfied: decorator in ./new/lib/python3.11/site-packages (from ipython>=6.1.0->ipywidgets) (5.1.1)\n",
      "Requirement already satisfied: charset-normalizer<4,>=2 in ./new/lib/python3.11/site-packages (from requests>=2.19.0->datasets) (3.3.2)\n",
      "Requirement already satisfied: certifi>=2017.4.17 in ./new/lib/python3.11/site-packages (from requests>=2.19.0->datasets) (2024.2.2)\n",
      "Requirement already satisfied: urllib3<3,>=1.21.1 in ./new/lib/python3.11/site-packages (from requests>=2.19.0->datasets) (1.26.18)\n",
      "Requirement already satisfied: idna<4,>=2.5 in ./new/lib/python3.11/site-packages (from requests>=2.19.0->datasets) (3.7)\n",
      "Requirement already satisfied: tzdata>=2022.7 in ./new/lib/python3.11/site-packages (from pandas->datasets) (2024.1)\n",
      "Requirement already satisfied: python-dateutil>=2.8.2 in ./new/lib/python3.11/site-packages (from pandas->datasets) (2.9.0.post0)\n",
      "Requirement already satisfied: pytz>=2020.1 in ./new/lib/python3.11/site-packages (from pandas->datasets) (2024.1)\n",
      "Requirement already satisfied: parso<0.9.0,>=0.8.3 in ./new/lib/python3.11/site-packages (from jedi>=0.16->ipython>=6.1.0->ipywidgets) (0.8.4)\n",
      "Requirement already satisfied: ptyprocess>=0.5 in ./new/lib/python3.11/site-packages (from pexpect>4.3->ipython>=6.1.0->ipywidgets) (0.7.0)\n",
      "Requirement already satisfied: wcwidth in ./new/lib/python3.11/site-packages (from prompt-toolkit<3.1.0,>=3.0.41->ipython>=6.1.0->ipywidgets) (0.2.13)\n",
      "Requirement already satisfied: six>=1.5 in ./new/lib/python3.11/site-packages (from python-dateutil>=2.8.2->pandas->datasets) (1.16.0)\n",
      "Requirement already satisfied: executing>=1.2.0 in ./new/lib/python3.11/site-packages (from stack-data->ipython>=6.1.0->ipywidgets) (2.0.1)\n",
      "Requirement already satisfied: pure-eval in ./new/lib/python3.11/site-packages (from stack-data->ipython>=6.1.0->ipywidgets) (0.2.2)\n",
      "Requirement already satisfied: asttokens>=2.1.0 in ./new/lib/python3.11/site-packages (from stack-data->ipython>=6.1.0->ipywidgets) (2.4.1)\n",
      "Note: you may need to restart the kernel to use updated packages.\n"
     ]
    }
   ],
   "source": [
    "%pip install ipywidgets datasets"
   ]
  },
  {
   "cell_type": "code",
   "execution_count": 7,
   "metadata": {},
   "outputs": [],
   "source": [
    "from huggingface_hub import notebook_login"
   ]
  },
  {
   "cell_type": "code",
   "execution_count": 8,
   "metadata": {},
   "outputs": [
    {
     "data": {
      "application/vnd.jupyter.widget-view+json": {
       "model_id": "4c99f3b76d564a3aa4cc0b18b7dda753",
       "version_major": 2,
       "version_minor": 0
      },
      "text/plain": [
       "VBox(children=(HTML(value='<center> <img\\nsrc=https://huggingface.co/front/assets/huggingface_logo-noborder.sv…"
      ]
     },
     "metadata": {},
     "output_type": "display_data"
    }
   ],
   "source": [
    "notebook_login()"
   ]
  },
  {
   "cell_type": "code",
   "execution_count": 9,
   "metadata": {},
   "outputs": [],
   "source": [
    "import datasets\n",
    "\n",
    "ds = datasets.load_dataset(\"openvega-simon/investopedia\", split=\"train\")"
   ]
  },
  {
   "cell_type": "code",
   "execution_count": 10,
   "metadata": {},
   "outputs": [
    {
     "name": "stdout",
     "output_type": "stream",
     "text": [
      "Requirement already satisfied: langchain in ./new/lib/python3.11/site-packages (0.2.1)\n",
      "Requirement already satisfied: aiohttp<4.0.0,>=3.8.3 in ./new/lib/python3.11/site-packages (from langchain) (3.9.5)\n",
      "Requirement already satisfied: pydantic<3,>=1 in ./new/lib/python3.11/site-packages (from langchain) (2.7.2)\n",
      "Requirement already satisfied: SQLAlchemy<3,>=1.4 in ./new/lib/python3.11/site-packages (from langchain) (2.0.30)\n",
      "Requirement already satisfied: tenacity<9.0.0,>=8.1.0 in ./new/lib/python3.11/site-packages (from langchain) (8.3.0)\n",
      "Requirement already satisfied: PyYAML>=5.3 in ./new/lib/python3.11/site-packages (from langchain) (6.0.1)\n",
      "Requirement already satisfied: langsmith<0.2.0,>=0.1.17 in ./new/lib/python3.11/site-packages (from langchain) (0.1.63)\n",
      "Requirement already satisfied: langchain-core<0.3.0,>=0.2.0 in ./new/lib/python3.11/site-packages (from langchain) (0.2.1)\n",
      "Requirement already satisfied: numpy<2,>=1 in ./new/lib/python3.11/site-packages (from langchain) (1.26.4)\n",
      "Requirement already satisfied: langchain-text-splitters<0.3.0,>=0.2.0 in ./new/lib/python3.11/site-packages (from langchain) (0.2.0)\n",
      "Requirement already satisfied: requests<3,>=2 in ./new/lib/python3.11/site-packages (from langchain) (2.32.2)\n",
      "Requirement already satisfied: aiosignal>=1.1.2 in ./new/lib/python3.11/site-packages (from aiohttp<4.0.0,>=3.8.3->langchain) (1.3.1)\n",
      "Requirement already satisfied: attrs>=17.3.0 in ./new/lib/python3.11/site-packages (from aiohttp<4.0.0,>=3.8.3->langchain) (23.2.0)\n",
      "Requirement already satisfied: frozenlist>=1.1.1 in ./new/lib/python3.11/site-packages (from aiohttp<4.0.0,>=3.8.3->langchain) (1.4.1)\n",
      "Requirement already satisfied: yarl<2.0,>=1.0 in ./new/lib/python3.11/site-packages (from aiohttp<4.0.0,>=3.8.3->langchain) (1.9.4)\n",
      "Requirement already satisfied: multidict<7.0,>=4.5 in ./new/lib/python3.11/site-packages (from aiohttp<4.0.0,>=3.8.3->langchain) (6.0.5)\n",
      "Requirement already satisfied: jsonpatch<2.0,>=1.33 in ./new/lib/python3.11/site-packages (from langchain-core<0.3.0,>=0.2.0->langchain) (1.33)\n",
      "Requirement already satisfied: packaging<24.0,>=23.2 in ./new/lib/python3.11/site-packages (from langchain-core<0.3.0,>=0.2.0->langchain) (23.2)\n",
      "Requirement already satisfied: orjson<4.0.0,>=3.9.14 in ./new/lib/python3.11/site-packages (from langsmith<0.2.0,>=0.1.17->langchain) (3.10.3)\n",
      "Requirement already satisfied: typing-extensions>=4.6.1 in ./new/lib/python3.11/site-packages (from pydantic<3,>=1->langchain) (4.12.0)\n",
      "Requirement already satisfied: pydantic-core==2.18.3 in ./new/lib/python3.11/site-packages (from pydantic<3,>=1->langchain) (2.18.3)\n",
      "Requirement already satisfied: annotated-types>=0.4.0 in ./new/lib/python3.11/site-packages (from pydantic<3,>=1->langchain) (0.7.0)\n",
      "Requirement already satisfied: charset-normalizer<4,>=2 in ./new/lib/python3.11/site-packages (from requests<3,>=2->langchain) (3.3.2)\n",
      "Requirement already satisfied: certifi>=2017.4.17 in ./new/lib/python3.11/site-packages (from requests<3,>=2->langchain) (2024.2.2)\n",
      "Requirement already satisfied: urllib3<3,>=1.21.1 in ./new/lib/python3.11/site-packages (from requests<3,>=2->langchain) (1.26.18)\n",
      "Requirement already satisfied: idna<4,>=2.5 in ./new/lib/python3.11/site-packages (from requests<3,>=2->langchain) (3.7)\n",
      "Requirement already satisfied: greenlet!=0.4.17 in ./new/lib/python3.11/site-packages (from SQLAlchemy<3,>=1.4->langchain) (3.0.3)\n",
      "Requirement already satisfied: jsonpointer>=1.9 in ./new/lib/python3.11/site-packages (from jsonpatch<2.0,>=1.33->langchain-core<0.3.0,>=0.2.0->langchain) (2.4)\n",
      "Note: you may need to restart the kernel to use updated packages.\n"
     ]
    }
   ],
   "source": [
    "%pip install langchain"
   ]
  },
  {
   "cell_type": "code",
   "execution_count": 11,
   "metadata": {},
   "outputs": [],
   "source": [
    "from langchain.docstore.document import Document as LangchainDocument\n",
    "\n",
    "RAW_KNOWLEDGE_BASE = [\n",
    "    LangchainDocument(page_content=doc[\"md_content\"], metadata={\"title\": doc[\"title\"], \"source\": doc[\"url\"]})\n",
    "    for doc in ds\n",
    "]"
   ]
  },
  {
   "cell_type": "code",
   "execution_count": 12,
   "metadata": {},
   "outputs": [],
   "source": [
    "points = []\n",
    "for idx, doc in enumerate(RAW_KNOWLEDGE_BASE):\n",
    "    content = f'''{doc.metadata[\"title\"]}: {doc.page_content}'''\n",
    "    vector = encoder.encode(content).tolist()\n",
    "    payload = {\"title\": doc.metadata[\"title\"], \"source\": doc.metadata[\"source\"], \"page_content\": doc.page_content}\n",
    "    point = models.PointStruct(id=idx, vector=vector, payload=payload)\n",
    "    points.append(point)"
   ]
  },
  {
   "cell_type": "code",
   "execution_count": 13,
   "metadata": {},
   "outputs": [
    {
     "data": {
      "text/plain": [
       "PointStruct(id=0, vector=[-0.061122678220272064, -0.04948068782687187, 0.03331484645605087, 0.015764832496643066, -0.032936662435531616, 0.07784141600131989, 0.0634869635105133, 0.002088918350636959, 0.018205704167485237, -0.0263025164604187, 0.027163399383425713, 0.1352146565914154, 0.012547994032502174, -0.03340467810630798, -0.03246687725186348, -0.033541351556777954, -0.025679931044578552, 0.024640290066599846, -0.07919353246688843, -0.04568867012858391, 0.0008832374005578458, -0.018578944727778435, -0.005226372741162777, -0.04436135292053223, 0.05813624709844589, 0.020838670432567596, 0.047265391796827316, 0.0498414970934391, -0.04496615380048752, -0.021625259891152382, -0.06375158578157425, 0.010397330857813358, 0.032535307109355927, -0.005954468622803688, -0.05003182217478752, 0.025810308754444122, -0.0428733304142952, 0.03517916426062584, 0.046001650393009186, -0.030650993809103966, -0.026887275278568268, -0.0381648913025856, -0.01992914453148842, 0.01794719696044922, -0.009150741621851921, 0.032888785004615784, -0.07498180866241455, -0.01905287802219391, -0.06576250493526459, 0.04602358490228653, -0.05264110490679741, -0.009061507880687714, -0.03140374273061752, -0.02588924579322338, -0.0006762015400454402, -0.0349673256278038, -0.07491518557071686, -0.019158773124217987, -0.012557810172438622, 0.05303536728024483, -0.0017791541758924723, 0.007806920446455479, 0.043143726885318756, 0.02186359465122223, 0.09832978993654251, -0.0710320845246315, 0.022941572591662407, -0.004908907227218151, -0.0428188182413578, 0.02502770721912384, 0.010837243869900703, 0.04993819072842598, -0.009056995622813702, -0.0031681256368756294, -0.10269496589899063, -0.006348471622914076, -0.0013089427957311273, 0.023050520569086075, 0.07819510996341705, 0.021290449425578117, -0.06060304492712021, 0.04462277516722679, 0.015281802043318748, -0.01213148981332779, -0.037609297782182693, 0.03904134780168533, -0.034347835928201675, 0.01886475831270218, 0.011439845897257328, 0.06851326674222946, -0.0189636442810297, -0.0736343190073967, 0.07734551280736923, 0.040409207344055176, -0.03518856316804886, 0.01551742386072874, 0.006627120543271303, 0.03058304265141487, -0.037205830216407776, -0.011099164374172688, 0.044192709028720856, 0.061067044734954834, 0.03759404644370079, 0.011429906822741032, 0.018455004319548607, -0.042000286281108856, -0.017921265214681625, -0.051247213035821915, -0.012950585223734379, -0.008949781768023968, -0.06977450847625732, 0.056732382625341415, -0.0929962545633316, -0.09538383036851883, -0.09905779361724854, -0.03364154323935509, 0.005338264163583517, 0.01239022146910429, 0.14088056981563568, -0.038254134356975555, 0.05079216882586479, 0.036890555173158646, -0.01465649250894785, -0.0788988247513771, -0.020611446350812912, 0.06769450753927231, -0.1369607001543045, -3.6534254220961306e-33, -0.06625749915838242, 0.03685477748513222, 0.028636610135436058, -0.006321214605122805, -0.04718976467847824, -0.07281874120235443, -0.03278550133109093, -0.00922437570989132, -0.12325797975063324, 0.077064648270607, 0.012390140444040298, 0.04862170293927193, 0.05826316773891449, -0.017759697511792183, -0.013230808079242706, -0.027551397681236267, 0.05648254603147507, -0.009486271068453789, -0.02764250338077545, -0.04473280906677246, 0.04977540299296379, 0.09836950898170471, 0.04320948198437691, 0.07066277414560318, -0.008559339679777622, -0.017084918916225433, -0.013500462286174297, 0.016997041180729866, -0.08412537723779678, 0.04837967827916145, 0.03945901244878769, -0.031068136915564537, -0.08235224336385727, -0.06737468391656876, 0.09023670852184296, -0.02722516655921936, 0.003943318035453558, -0.043519750237464905, -0.004666934721171856, -0.08659492433071136, -0.014202803373336792, -0.05166598781943321, -0.12753033638000488, 0.04576227068901062, -0.024542294442653656, 0.04396151751279831, -0.027147050946950912, -0.024314088746905327, 0.052694134414196014, 0.05480843037366867, -0.055009640753269196, -0.023349333554506302, 0.06442392617464066, -0.05731545388698578, -0.008078533224761486, 0.006586277391761541, 0.07327089458703995, 0.014825313352048397, -0.07600489258766174, 0.03213350847363472, -0.04463232308626175, 0.050623804330825806, 0.008239229209721088, 0.07527535408735275, -0.0815846174955368, 0.0052457936108112335, -0.09418267011642456, -0.02764369547367096, 0.00627142796292901, 0.08463405817747116, 0.06666647642850876, 0.06303363293409348, 0.09704802930355072, 0.04870229959487915, 0.005845056381076574, -0.05155579000711441, -0.03832287713885307, 0.03393450751900673, 0.03458820655941963, -0.025353647768497467, 0.0038709156215190887, -0.06116330251097679, -0.04976924881339073, 0.003862612182274461, 0.001653566025197506, -0.012730969116091728, 0.013558786362409592, -0.07282944023609161, 0.03202102705836296, 0.012811079621315002, 0.027238287031650543, 0.018610989674925804, -0.05395253002643585, 0.038200944662094116, -0.03178934380412102, -6.222726383562444e-34, -0.0378117673099041, 0.024416524916887283, -0.01969485729932785, 0.029365962371230125, -0.08498188108205795, -0.0483870692551136, 0.046719398349523544, 0.006329742725938559, -0.005597539246082306, -0.008753336034715176, -0.06711580604314804, 0.06108822301030159, 0.0006971910479478538, -0.03160310164093971, 0.017538459971547127, -0.009903647005558014, -0.02579202875494957, -0.050955627113580704, -0.008214837871491909, 0.0229691993445158, 0.014933198690414429, 0.007292510941624641, -0.018036657944321632, 0.061664827167987823, 0.0409083254635334, 0.003952779341489077, 0.06177914887666702, -0.01589510217308998, -0.05608859658241272, 0.031489577144384384, 0.015481898561120033, -0.03049059957265854, 0.0031062697526067495, 0.001641815877519548, -0.030659573152661324, -0.0921013206243515, 0.045857127755880356, -0.0829564705491066, -0.004365023225545883, 0.01866472326219082, -0.031150659546256065, -0.00690603768453002, 0.06874126940965652, 0.11145196110010147, 0.0008157796692103148, 0.06240516155958176, -0.0057899788953363895, 0.05935020372271538, 0.09038075804710388, -0.011142611503601074, -0.024944311007857323, -0.026091665029525757, 0.040652256458997726, 0.06659642606973648, -0.06393908709287643, 0.03653642535209656, -0.07869201898574829, 0.03129513934254646, -0.005303295329213142, 0.12161026895046234, 0.048891451209783554, -0.07269160449504852, 0.03519260510802269, 0.01982959732413292, -0.017742978408932686, -0.10736127942800522, -0.044303618371486664, 0.0006972902338020504, 0.0281086266040802, -0.08696584403514862, 0.02870560623705387, -0.061516180634498596, 0.03845936059951782, -0.028010554611682892, 0.011500069871544838, -0.05003874748945236, -0.004082535393536091, -0.022099992260336876, -0.08519245684146881, 0.07325883209705353, 0.024639692157506943, 0.034577835351228714, -0.04745420068502426, 0.0561884343624115, 0.03691296651959419, -0.07181493192911148, 0.050157368183135986, 0.04359741508960724, -0.05188257247209549, -0.07443920522928238, 0.0544583834707737, 0.021398529410362244, -0.02434753254055977, 0.06606955826282501, -0.08668733388185501, -4.063698000322802e-08, -0.02975514531135559, -0.08050277084112167, -0.027520325034856796, -0.09968943893909454, 0.0789111852645874, -0.04765043035149574, -0.037462908774614334, -0.0670740157365799, 0.0851251408457756, 0.102208212018013, 0.1155223399400711, 0.05980336666107178, -0.10652879625558853, 0.01625540852546692, -0.045791350305080414, -0.03367486596107483, -0.06607866287231445, 0.056830428540706635, -0.003429938806220889, 0.12797091901302338, -0.013875656761229038, 0.02211165986955166, -0.012487390078604221, 0.00040029335650615394, 0.0022618670482188463, -0.0016752463998273015, 0.053285930305719376, 0.0502966083586216, 0.03190886974334717, 0.012152239680290222, -0.05553402751684189, 0.0782473012804985, 0.1458355188369751, -0.03599995747208595, -0.09046515822410583, 0.059051018208265305, 0.09031111747026443, 0.008051550947129726, 0.03284494951367378, 0.06055869162082672, -0.0288890078663826, -0.06762120872735977, -0.05075491592288017, 0.04844599589705467, -0.05315016955137253, 0.08361852169036865, -0.0923328697681427, 0.07718198001384735, -0.0029433032032102346, -0.12079932540655136, -0.025260452181100845, 0.02309764176607132, -0.032842352986335754, 0.02971489168703556, -0.0024905011523514986, 0.041366010904312134, -0.016556771472096443, 0.03152972087264061, 0.04620072990655899, -0.07263551652431488, 0.058291949331760406, 0.02591162547469139, -0.010172292590141296, -0.008093839511275291], payload={'title': 'J', 'source': 'https://www.investopedia.com/terms/j/j.asp', 'page_content': \"## What Is J?\\n\\n\\n The term J refers to a designation for [Nasdaq](https://www.investopedia.com/terms/n/nasdaq.asp)-listed stocks that specifies that the stock has voting rights. The designation appears as the fifth letter following a dot after a stock's four-letter [ticker symbol](https://www.investopedia.com/terms/s/stocksymbol.asp). It is added to denote a shareholder vote situation. The letter J is a temporary suffix that is removed once the shareholder vote situation is resolved. Other letter designations are used to describe [share classes](https://www.investopedia.com/terms/s/share_class.asp), foreign issues, preferred issues, and a company's financial status.\\n\\n\\n\\n\\n### Key Takeaways\\n\\n\\n* J is a fifth-letter designation used to illustrate that a Nasdaq-listed security has voting rights.\\n* Nasdaq-listed stocks have four characters, usually letters, known as a ticker symbol.\\n* Th J appears after a dot at the end of the company's ticker symbol.\\n* The J-designation is temporary and is removed after the shareholder vote is complete.\\n\\n## Understanding J\\n\\n\\n [Securities](https://www.investopedia.com/terms/s/security.asp) that trade on [stock exchanges](https://www.investopedia.com/articles/basics/04/092404.asp) are represented by a series of characters, usually a set of letters. This arrangement is referred to as a ticker symbol. It allows individuals and companies to execute trades for these securities. Traders can recognize the stock exchange on which these companies trade based on the number of letters in the symbol. For instance, stocks that trade on the [New York Stock Exchange](https://www.investopedia.com/terms/n/nyse.asp) (NYSE) have three letters while those on the Nasdaq have four.\\n\\n\\n\\n\\n Publicly-traded stocks also come with suffixes that alert [shareholders](https://www.investopedia.com/terms/s/shareholder.asp) to specific situations pertinent to the company. These suffixes appear as a fifth-letter identifier following a dot after a company's ticker symbol. The letter J is one of those suffixes. This designation identifies public security issues that have [voting rights](https://www.investopedia.com/ask/answers/040315/what-can-shareholders-vote.asp). J also reveals that there is more than one issue of a company’s common stock. For example, Google offers two classes of stock to the public—one is voting shares and the other is non-voting.\\n\\n\\n\\n\\n The letter J is only added temporarily when there is a shareholder vote situation and is removed when the situation has been resolved. Common stock with voting rights is considered [voting stock](https://www.investopedia.com/terms/v/votingshares.asp). The majority\\xa0of common stock has voting rights. Voting stock, which carries voting rights, allows a shareholder to vote during a shareholder vote situation. The items that might require a shareholder vote include voting on board of director members or corporate transactions like [mergers](https://www.investopedia.com/terms/m/merger.asp).\\xa0The exchange removes the designation once the shareholder vote situation is complete.\\n\\n\\n\\n\\n### \\n\\n\\nSince its ticker symbols are comprised of three letters, the NYSE uses a fourth letter to identify unique instances where the issuance varies from normal conditions.\\n\\n\\n## J vs. Other Letter Designations\\n\\n\\n The Nasdaq uses a variety of letters, which are called fifth-letter designations, to distinguish stock issuances and the rights that come along with them. J is just one of those designations. As mentioned above, J is a temporary addition to a stock's ticker symbol. Like J, the letter D is also a temporary suffix. D represents a [new issue](https://www.investopedia.com/terms/n/newissue.asp), noting that it’s a corporate reorganization.\\n\\n\\n\\n\\n If you see a ticker symbol that has the letter H after a dot, it means that the issuance is the second [preferred bond](https://www.investopedia.com/articles/active-trading/111114/preferred-stocks-versus-bonds-how-choose.asp) of the company. The K at the end of a symbol means the stock is non-voting.\\n\\n\\n\\n\\n The letter E means the company is delinquent with a\\xa0[Securities and Exchange Commission](https://www.investopedia.com/terms/s/sec.asp) (SEC) filing, while C means the company does not meet all requirements for listing on the Nasdaq. An A or B means it's the company's A or B shares, respectively, and most of the various other letters deal with being a preferred, [convertible](https://www.investopedia.com/terms/c/convertibles.asp), or rights issuance.\\n\\n\\n\"})"
      ]
     },
     "execution_count": 13,
     "metadata": {},
     "output_type": "execute_result"
    }
   ],
   "source": [
    "points[0]"
   ]
  },
  {
   "cell_type": "code",
   "execution_count": 14,
   "metadata": {},
   "outputs": [],
   "source": [
    "client.upload_records(\n",
    "    collection_name=\"investopedia\",  # Replace with your actual collection name\n",
    "    records=points,\n",
    "    parallel=4\n",
    ")"
   ]
  },
  {
   "cell_type": "code",
   "execution_count": 15,
   "metadata": {},
   "outputs": [],
   "source": [
    "hits = client.search(\n",
    "    collection_name=\"investopedia\",\n",
    "    query_vector=encoder.encode(\"J Term\").tolist(),\n",
    "    limit=3\n",
    ")"
   ]
  },
  {
   "cell_type": "code",
   "execution_count": 16,
   "metadata": {},
   "outputs": [
    {
     "data": {
      "text/plain": [
       "[ScoredPoint(id=0, version=0, score=0.6032048648035324, payload={'title': 'J', 'source': 'https://www.investopedia.com/terms/j/j.asp', 'page_content': \"## What Is J?\\n\\n\\n The term J refers to a designation for [Nasdaq](https://www.investopedia.com/terms/n/nasdaq.asp)-listed stocks that specifies that the stock has voting rights. The designation appears as the fifth letter following a dot after a stock's four-letter [ticker symbol](https://www.investopedia.com/terms/s/stocksymbol.asp). It is added to denote a shareholder vote situation. The letter J is a temporary suffix that is removed once the shareholder vote situation is resolved. Other letter designations are used to describe [share classes](https://www.investopedia.com/terms/s/share_class.asp), foreign issues, preferred issues, and a company's financial status.\\n\\n\\n\\n\\n### Key Takeaways\\n\\n\\n* J is a fifth-letter designation used to illustrate that a Nasdaq-listed security has voting rights.\\n* Nasdaq-listed stocks have four characters, usually letters, known as a ticker symbol.\\n* Th J appears after a dot at the end of the company's ticker symbol.\\n* The J-designation is temporary and is removed after the shareholder vote is complete.\\n\\n## Understanding J\\n\\n\\n [Securities](https://www.investopedia.com/terms/s/security.asp) that trade on [stock exchanges](https://www.investopedia.com/articles/basics/04/092404.asp) are represented by a series of characters, usually a set of letters. This arrangement is referred to as a ticker symbol. It allows individuals and companies to execute trades for these securities. Traders can recognize the stock exchange on which these companies trade based on the number of letters in the symbol. For instance, stocks that trade on the [New York Stock Exchange](https://www.investopedia.com/terms/n/nyse.asp) (NYSE) have three letters while those on the Nasdaq have four.\\n\\n\\n\\n\\n Publicly-traded stocks also come with suffixes that alert [shareholders](https://www.investopedia.com/terms/s/shareholder.asp) to specific situations pertinent to the company. These suffixes appear as a fifth-letter identifier following a dot after a company's ticker symbol. The letter J is one of those suffixes. This designation identifies public security issues that have [voting rights](https://www.investopedia.com/ask/answers/040315/what-can-shareholders-vote.asp). J also reveals that there is more than one issue of a company’s common stock. For example, Google offers two classes of stock to the public—one is voting shares and the other is non-voting.\\n\\n\\n\\n\\n The letter J is only added temporarily when there is a shareholder vote situation and is removed when the situation has been resolved. Common stock with voting rights is considered [voting stock](https://www.investopedia.com/terms/v/votingshares.asp). The majority\\xa0of common stock has voting rights. Voting stock, which carries voting rights, allows a shareholder to vote during a shareholder vote situation. The items that might require a shareholder vote include voting on board of director members or corporate transactions like [mergers](https://www.investopedia.com/terms/m/merger.asp).\\xa0The exchange removes the designation once the shareholder vote situation is complete.\\n\\n\\n\\n\\n### \\n\\n\\nSince its ticker symbols are comprised of three letters, the NYSE uses a fourth letter to identify unique instances where the issuance varies from normal conditions.\\n\\n\\n## J vs. Other Letter Designations\\n\\n\\n The Nasdaq uses a variety of letters, which are called fifth-letter designations, to distinguish stock issuances and the rights that come along with them. J is just one of those designations. As mentioned above, J is a temporary addition to a stock's ticker symbol. Like J, the letter D is also a temporary suffix. D represents a [new issue](https://www.investopedia.com/terms/n/newissue.asp), noting that it’s a corporate reorganization.\\n\\n\\n\\n\\n If you see a ticker symbol that has the letter H after a dot, it means that the issuance is the second [preferred bond](https://www.investopedia.com/articles/active-trading/111114/preferred-stocks-versus-bonds-how-choose.asp) of the company. The K at the end of a symbol means the stock is non-voting.\\n\\n\\n\\n\\n The letter E means the company is delinquent with a\\xa0[Securities and Exchange Commission](https://www.investopedia.com/terms/s/sec.asp) (SEC) filing, while C means the company does not meet all requirements for listing on the Nasdaq. An A or B means it's the company's A or B shares, respectively, and most of the various other letters deal with being a preferred, [convertible](https://www.investopedia.com/terms/c/convertibles.asp), or rights issuance.\\n\\n\\n\"}, vector=None),\n",
       " ScoredPoint(id=4506, version=0, score=0.2745959114848664, payload={'title': 'Term Loan Definition, Types, and Common Attributes', 'source': 'https://www.investopedia.com/terms/t/termloan.asp', 'page_content': \"## What Is a Term Loan?\\n\\n\\n A term loan provides borrowers with a lump sum of cash upfront in exchange for specific borrowing terms. Term loans are normally meant for established small businesses with sound [financial statements](https://www.investopedia.com/terms/f/financial-statements.asp). In exchange for a specified amount of cash, the borrower agrees to a certain repayment schedule with a fixed or [floating interest rate](https://www.investopedia.com/terms/f/floatinginterestrate.asp). Term loans may require substantial [down payments](https://www.investopedia.com/terms/d/down_payment.asp) to reduce the payment amounts and the total cost of the loan.\\n\\n\\n\\n\\n### Key Takeaways\\n\\n\\n* A term loan provides borrowers with a lump sum of cash upfront in exchange for specific borrowing terms.\\n* Borrowers agree to pay their lenders a fixed amount over a certain repayment schedule with either a fixed or floating interest rate.\\n* Term loans are commonly used by small businesses to purchase fixed assets, such as equipment or a new building.\\n* Borrowers prefer term loans because they offer more flexibility and lower interest rates.\\n* Short and intermediate-term loans may require balloon payments while long-term facilities come with fixed payments.\\n\\n## Understanding Term Loans\\n\\n\\n Term loans are commonly granted to small businesses that need cash to purchase equipment, a new building for their production processes, or any other [fixed assets](https://www.investopedia.com/terms/f/fixedasset.asp) to keep their businesses going. Some businesses borrow the cash they need to operate on a month-to-month basis. Many banks have established term loan programs specifically to help companies in this way.\\n\\n\\n\\n\\n Business owners apply for term loans the same way they would any other credit facility—by approaching their lender. They must provide statements and other financial evidence demonstrating their [creditworthiness](https://www.investopedia.com/terms/c/credit-worthiness.asp). Approved borrowers get a [lump sum](https://www.investopedia.com/terms/l/lump-sum-payment.asp) of cash and are required to make payments over a certain period of time, usually on a monthly or quarterly repayment schedule.\\xa0\\n\\n\\n\\n\\n Term loans carry a fixed or [variable interest rate](https://www.investopedia.com/terms/v/variableinterestrate.asp) and a set maturity date. If the proceeds are used to finance the purchase of an asset, the\\xa0[useful life](https://www.investopedia.com/terms/u/usefullife.asp)\\xa0of that asset can impact the repayment schedule. The loan requires collateral and a rigorous approval process to reduce the risk of [default](https://www.investopedia.com/terms/d/default2.asp) or failure to make payments. As noted above, some lenders may require down payments before they advance the loan.\\n\\n\\n\\n\\n Borrowers often choose term loans for several reasons, including:\\n\\n\\n\\n\\n* Simple application process\\n* Receiving an upfront lump sum of cash\\n* Specified payments\\n* Lower interest rates\\n\\n\\n\\n Taking out a term loan also frees up cash from a company's cash flow in order to use it elsewhere.\\n\\n\\n\\n\\n### \\n\\n\\nVariable-rate term loans are based on a benchmark rate like the U.S. prime rate or the [London InterBank Offered Rate](https://www.investopedia.com/terms/l/libor.asp) (LIBOR).\\n\\n\\n## Types of Term Loans\\n\\n\\n Term loans come in several varieties, usually reflecting the lifespan of the loan. These include:\\n\\n\\n\\n\\n* **Short-term loans:** These types of term loans are usually offered to firms that don't qualify for a line of credit. They generally run less than a year, though they can also refer to a loan of up to 18 months.\\n* **Intermediate-term loans:** These loans generally run between one to three years and are paid in monthly installments from a company’s [cash flow](https://www.investopedia.com/terms/c/cashflow.asp).\\n* **Long-term loans:** These loans last anywhere between three to 25 years. They use company assets as [collateral](https://www.investopedia.com/terms/c/collateral.asp) and require monthly or quarterly payments from profits or cash flow. They limit other financial commitments the company may take on, including other debts, [dividends](https://www.investopedia.com/terms/d/dividend.asp), or principals' salaries,\\xa0and can require an amount of profit\\xa0set aside specifically for loan repayment.\\n\\n\\n\\n Both short- and intermediate-term loans may also be balloon loans and come with [balloon payments](https://www.investopedia.com/terms/b/balloon-payment.asp). This means the final installment swells or balloons into a much larger amount than any of the previous ones.\\n\\n\\n\\n\\n### \\n\\n\\nWhile the principal of a term loan is not technically due until maturity, most term loans operate on a specified schedule requiring a specific payment size at certain intervals.\\n\\n\\n## Example of a Term Loan\\n\\n\\n A [Small Business Administration](https://www.investopedia.com/terms/s/small-business-administration.asp) (SBA) loan, officially known as a 7(a) guaranteed loan, encourages long-term financing. [Short-term loans](https://www.investopedia.com/best-short-term-business-loans-5088589) and revolving\\xa0credit lines are also available to help with a company’s immediate and cyclical working capital needs.\\n\\n\\n\\n\\n Maturities for long-term loans vary according to [the ability to repay](https://www.investopedia.com/terms/a/ability-to-repay.asp), the purpose of the loan, and the useful life of the financed asset. Maximum [maturity dates](https://www.investopedia.com/terms/m/maturitydate.asp) are generally 25 years for real estate, up to ten years for working capital, and ten years for most other loans. The borrower repays the loan with monthly principal and interest payments.\\n\\n\\n\\n\\n As with any loan, an SBA fixed-rate loan payment remains the same because the interest rate is constant. Conversely, a variable-rate loan's payment amount can vary since the interest rate fluctuates. A lender may establish an SBA loan with interest-only payments during a company's startup or [expansion](https://www.investopedia.com/terms/e/expansion.asp) phase. As a result, the business has time to generate income before making full loan payments. Most SBA loans do not allow balloon payments.\\n\\n\\n\\n\\n The SBA charges the borrower a [prepayment](https://www.investopedia.com/terms/p/prepayment.asp) fee only if the loan has a maturity of 15 years or longer. Business and personal assets\\xa0secure every loan\\xa0until the recovery value equals the loan amount or until the borrower has pledged\\xa0all assets\\xa0as reasonably available.\\n\\n\\n\\n\\n ## Why Do Businesses Get Term Loans?\\n\\n\\nA term loan is usually meant for equipment, real estate, or working capital paid off between one and 25 years. A small business often uses the cash from a term loan to purchase fixed assets, such as equipment or a new building for its production process. Some businesses borrow the cash they need to operate from month to month. Many banks have established term-loan programs specifically to help companies in this way.\\n\\n\\n\\n\\n ## What Are the Types of Term Loans?\\n\\n\\nTerm loans come in several varieties, usually reflecting the lifespan of the loan. A short-term loan, usually offered to firms that don't qualify for a line of credit, generally runs less than a year, though it can also refer to a loan of up to 18 months or so. An intermediate-term loan generally runs more than one to three years and is paid in monthly installments from a company’s cash flow. A long-term loan runs for three to 25 years, uses company assets as collateral, and requires monthly or quarterly payments from profits or cash flow.\\n\\n\\n\\n\\n ## What Are the Common Attributes of Term Loans?\\n\\n\\nTerm loans carry a fixed or variable interest rate, a monthly or quarterly repayment schedule, and a set maturity date. If the loan is used to finance an asset purchase, the useful life of that asset can impact the repayment schedule. The loan requires collateral and a rigorous approval process to reduce the risk of default or failure to make payments. However, term loans generally carry no penalties if they are paid off ahead of schedule.\\n\\n\\n\"}, vector=None),\n",
       " ScoredPoint(id=2724, version=0, score=0.27346914070053335, payload={'title': \"Jobseeker's Allowance (JSA): Meaning, Types, FAQs\", 'source': 'https://www.investopedia.com/terms/j/job-seekers-allowance-jsa.asp', 'page_content': '## What Is the Jobseeker\\'s Allowance? (JSA)\\n\\n\\n The Jobseeker\\'s Allowance (JSA) is a benefit for unemployed individuals in the U.K. who are actively seeking work. The allowance is intended to help minimize the [cost of living](https://www.investopedia.com/terms/c/cost-of-living.asp) for those seeking full-time employment.\\n\\n\\n\\n\\n### Key Takeaways\\n\\n\\n* The Jobseeker\\'s Allowance (JSA) is an unemployment benefit available to certain unemployed citizens in the U.K. who are looking for work.\\n* Recipients seeking the JSA must prove that they are actively seeking work and are willing to take any job that pays a reasonable wage.\\n* Individuals applying must be allowed to live and work in the U.K. and generally be at least 18 (with some exceptions).\\n* Applicants must either be unemployed or not working more than 16 hours a week; they cannot be full-time students.\\n\\n## Understanding the Jobseeker\\'s Allowance (JSA)\\n\\n\\n The Jobseeker\\'s Allowance is a conditions-based benefit, meaning recipients must meet certain conditions in order to retain eligibility for payments. Applicants who have had previous employment must submit a copy of their [P45 Form](https://www.investopedia.com/terms/p/p45-tax.asp) from their last employer. The P45 lists information about previous income and the total taxes paid by the employee.\\n\\n\\n\\n\\n The main requirement for receiving the JSA is the recipient must provide proof on an ongoing basis that they are actively looking for employment. This condition was introduced to prevent [unemployment benefits](https://www.investopedia.com/terms/u/unemployment-compensation.asp) from becoming too easily available and accessible.\\n\\n\\n\\n\\n## Precursors to the JSA\\n\\n\\n The first unemployment benefits in the U.K. were paid in 1911 with the passage of the National Insurance Act. The act covered 2.5 million workers and payments were intended as a supplement to other sources of income.\\n\\n\\n\\n\\n High [unemployment rates](https://www.investopedia.com/terms/u/unemploymentrate.asp) following the end of World War I led to the creation of the Unemployment Insurance Act of 1920. This provided weekly unemployment benefits for 15 weeks.\\n\\n\\n\\n\\n In 1921, the government introduced the \"seeking work\" test as a condition to receive benefits. The test required recipients to show they were genuinely seeking employment and willing to accept any job paying a reasonable wage. Unemployment benefits have continued to evolve over the years, leading to the Jobseeker\\'s Allowance.\\n\\n\\n\\n\\n## Eligibility for the JSA\\n\\n\\n The Jobseeker\\'s Allowance is available to an individual who has the right to work in the U.K. and lives in England, Scotland, or Wales. They must be under the state pension age but older than 18 (although some 16- or 17-year-old workers may qualify). They must be available for work, not a full-time student, and not be working more than 16 hours per week.\\n\\n\\n\\n\\n The JSA recipient must sign on at Jobcentre Plus every two weeks, allowing the Jobcentre to assess whether sufficient efforts are being made to secure employment. Benefits may be stopped if the Jobcentre determines the claimant is not fulfilling their job-seeking obligations, is failing to attend interviews, or is turning down offers of employment or training.\\n\\n\\n\\n\\n### JSA Calculator\\n\\n\\nA [Jobseeker\\'s Allowance Calculator](https://www.gov.uk/benefits-calculators) is available on the U.K. Government website.\\n\\n\\n## Types of JSA\\n\\n\\n There are three types of Jobseeker\\'s Allowance: new style JSA, contribution-based JSA, and income-based JSA. Individuals who\\'ve worked for two to three years and have paid Class 1 [National Insurance Contributions](https://www.investopedia.com/terms/n/national-insurance-contributions-nic.asp) are eligible for the new style JSA. Payments last for six months and the income and savings of the recipient\\'s partner do not impact their benefits.\\n\\n\\n\\n\\n The contribution-based JSA is available for those who receive or who are entitled to receive severe disability premiums. In addition, they must have also paid Class 1 National Insurance Contributions over the past two to three years.\\n\\n\\n\\n\\n The income-based JSA is for those who receive or who are entitled to receive severe disability premiums but haven\\'t worked over the past two to three years. The recipient must have £16,000 or less in savings (including the recipient\\'s partner\\'s savings). In addition, the claimant\\'s partner cannot be working more than 24 hours per week.\\n\\n\\n\\n\\n ## How Much Is the Jobseeker\\'s Allowance in the U.K.?\\n\\n\\nIf you qualify for the Jobseeker\\'s Allowance in the U.K., you may be eligible for up to £67.20 per week if you are 18 to 24 or £84.80 per week if you are 25 and over. The exact amount will depend on various factors.\\n\\n\\n\\n\\n ## How Does the Jobseeker\\'s Allowance Work in the U.K.?\\n\\n\\nThe Jobseeker\\'s Allowance in the U.K. seeks to assist unemployed individuals with the cost of living. If unemployed individuals have paid into the National Insurance, then they will receive a non-means-tested contribution, while those who have not paid into the system will receive means-based-tested contributions.\\n\\n\\n\\n\\n ## Do I Have to Register as Unemployed in the U.K.?\\n\\n\\nTo receive benefits from the Jobseeker\\'s Allowance program or the Universal Credit program in the U.K., you do have to register with Jobcentre Plus.\\n\\n\\n\\n\\n## The Bottom Line\\n\\n\\n The Jobseeker\\'s Allowance program in the U.K. helps reduce the cost of living for those that are currently [unemployed](https://www.investopedia.com/terms/u/unemployment.asp) and looking for work. The program comes with various factors for eligibility as well as follow-ups with job centers.\\n\\n\\n'}, vector=None)]"
      ]
     },
     "execution_count": 16,
     "metadata": {},
     "output_type": "execute_result"
    }
   ],
   "source": [
    "hits"
   ]
  },
  {
   "cell_type": "code",
   "execution_count": null,
   "metadata": {},
   "outputs": [],
   "source": []
  }
 ],
 "metadata": {
  "language_info": {
   "name": "python"
  }
 },
 "nbformat": 4,
 "nbformat_minor": 2
}
