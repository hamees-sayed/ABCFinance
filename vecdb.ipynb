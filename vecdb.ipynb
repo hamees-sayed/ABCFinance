{
 "cells": [
  {
   "cell_type": "code",
   "execution_count": null,
   "metadata": {},
   "outputs": [],
   "source": [
    "%pip install sentence-transformers qdrant-client"
   ]
  },
  {
   "cell_type": "code",
   "execution_count": 9,
   "metadata": {},
   "outputs": [],
   "source": [
    "import csv\n",
    "from sentence_transformers import SentenceTransformer\n",
    "from qdrant_client import QdrantClient, models, conversions\n",
    "from tqdm.notebook import tqdm"
   ]
  },
  {
   "cell_type": "code",
   "execution_count": 10,
   "metadata": {},
   "outputs": [],
   "source": [
    "client = QdrantClient(path=\"vec.db\")"
   ]
  },
  {
   "cell_type": "code",
   "execution_count": 11,
   "metadata": {},
   "outputs": [
    {
     "name": "stderr",
     "output_type": "stream",
     "text": [
      "/workspace/ABCFinance/venv/lib/python3.12/site-packages/huggingface_hub/file_download.py:1132: FutureWarning: `resume_download` is deprecated and will be removed in version 1.0.0. Downloads always resume when possible. If you want to force a new download, use `force_download=True`.\n",
      "  warnings.warn(\n"
     ]
    }
   ],
   "source": [
    "encoder = SentenceTransformer(\"all-MiniLM-L6-v2\") #embedding model"
   ]
  },
  {
   "cell_type": "code",
   "execution_count": 12,
   "metadata": {},
   "outputs": [
    {
     "name": "stderr",
     "output_type": "stream",
     "text": [
      "/tmp/ipykernel_4456/1457044021.py:1: DeprecationWarning: `recreate_collection` method is deprecated and will be removed in the future. Use `collection_exists` to check collection existence and `create_collection` instead.\n",
      "  client.recreate_collection(\n"
     ]
    },
    {
     "data": {
      "text/plain": [
       "True"
      ]
     },
     "execution_count": 12,
     "metadata": {},
     "output_type": "execute_result"
    }
   ],
   "source": [
    "client.recreate_collection(\n",
    "    collection_name=\"investopedia\",\n",
    "    vectors_config=models.VectorParams(\n",
    "        size=encoder.get_sentence_embedding_dimension(),  # Vector size is defined by used model\n",
    "        distance=models.Distance.COSINE,\n",
    "    ),\n",
    ")"
   ]
  },
  {
   "cell_type": "code",
   "execution_count": 15,
   "metadata": {},
   "outputs": [],
   "source": [
    "import datasets\n",
    "\n",
    "ds = datasets.load_dataset(\"openvega-simon/investopedia\", split=\"train\")"
   ]
  },
  {
   "cell_type": "code",
   "execution_count": 16,
   "metadata": {},
   "outputs": [
    {
     "data": {
      "application/vnd.jupyter.widget-view+json": {
       "model_id": "ec2c662c94bc4b7b929eab5690c67229",
       "version_major": 2,
       "version_minor": 0
      },
      "text/plain": [
       "  0%|          | 0/4723 [00:00<?, ?it/s]"
      ]
     },
     "metadata": {},
     "output_type": "display_data"
    }
   ],
   "source": [
    "from langchain.docstore.document import Document as LangchainDocument\n",
    "\n",
    "RAW_KNOWLEDGE_BASE = [\n",
    "    LangchainDocument(page_content=doc[\"md_content\"], metadata={\"title\": doc[\"title\"], \"source\": doc[\"url\"]})\n",
    "    for doc in tqdm(ds)\n",
    "]"
   ]
  },
  {
   "cell_type": "code",
   "execution_count": 17,
   "metadata": {},
   "outputs": [
    {
     "data": {
      "application/vnd.jupyter.widget-view+json": {
       "model_id": "7a696c023b144104943c5f088b773444",
       "version_major": 2,
       "version_minor": 0
      },
      "text/plain": [
       "  0%|          | 0/4723 [00:00<?, ?it/s]"
      ]
     },
     "metadata": {},
     "output_type": "display_data"
    }
   ],
   "source": [
    "points = []\n",
    "for idx, doc in tqdm(enumerate(RAW_KNOWLEDGE_BASE), total=len(RAW_KNOWLEDGE_BASE)):\n",
    "    content = f'''{doc.metadata[\"title\"]}: {doc.page_content}'''\n",
    "    vector = encoder.encode(content).tolist()\n",
    "    payload = {\"title\": doc.metadata[\"title\"], \"source\": doc.metadata[\"source\"], \"page_content\": doc.page_content}\n",
    "    point = models.PointStruct(id=idx, vector=vector, payload=payload)\n",
    "    points.append(point)"
   ]
  },
  {
   "cell_type": "code",
   "execution_count": 1,
   "metadata": {},
   "outputs": [
    {
     "ename": "NameError",
     "evalue": "name 'points' is not defined",
     "output_type": "error",
     "traceback": [
      "\u001b[0;31m---------------------------------------------------------------------------\u001b[0m",
      "\u001b[0;31mNameError\u001b[0m                                 Traceback (most recent call last)",
      "\u001b[1;32m/workspace/ABCFinance/vecdb.ipynb Cell 8\u001b[0m line \u001b[0;36m1\n\u001b[0;32m----> <a href='vscode-notebook-cell://hameessayed-abcfinance-5narv4aks9k.ws-us114.gitpod.io/workspace/ABCFinance/vecdb.ipynb#X10sdnNjb2RlLXJlbW90ZQ%3D%3D?line=0'>1</a>\u001b[0m points\n",
      "\u001b[0;31mNameError\u001b[0m: name 'points' is not defined"
     ]
    }
   ],
   "source": [
    "points"
   ]
  },
  {
   "cell_type": "code",
   "execution_count": 19,
   "metadata": {},
   "outputs": [],
   "source": [
    "client.upload_points(\n",
    "    collection_name=\"investopedia\",  # Replace with your actual collection name\n",
    "    points=points,\n",
    "    parallel=4,\n",
    ")"
   ]
  },
  {
   "cell_type": "code",
   "execution_count": 20,
   "metadata": {},
   "outputs": [],
   "source": [
    "points = client.search(\n",
    "    collection_name=\"investopedia\",\n",
    "    query_vector=encoder.encode(\"J Term\").tolist(),\n",
    "    limit=3,\n",
    ")"
   ]
  },
  {
   "cell_type": "code",
   "execution_count": 21,
   "metadata": {},
   "outputs": [
    {
     "data": {
      "text/plain": [
       "[ScoredPoint(id=0, version=0, score=0.6032048648035324, payload={'title': 'J', 'source': 'https://www.investopedia.com/terms/j/j.asp', 'page_content': \"## What Is J?\\n\\n\\n The term J refers to a designation for [Nasdaq](https://www.investopedia.com/terms/n/nasdaq.asp)-listed stocks that specifies that the stock has voting rights. The designation appears as the fifth letter following a dot after a stock's four-letter [ticker symbol](https://www.investopedia.com/terms/s/stocksymbol.asp). It is added to denote a shareholder vote situation. The letter J is a temporary suffix that is removed once the shareholder vote situation is resolved. Other letter designations are used to describe [share classes](https://www.investopedia.com/terms/s/share_class.asp), foreign issues, preferred issues, and a company's financial status.\\n\\n\\n\\n\\n### Key Takeaways\\n\\n\\n* J is a fifth-letter designation used to illustrate that a Nasdaq-listed security has voting rights.\\n* Nasdaq-listed stocks have four characters, usually letters, known as a ticker symbol.\\n* Th J appears after a dot at the end of the company's ticker symbol.\\n* The J-designation is temporary and is removed after the shareholder vote is complete.\\n\\n## Understanding J\\n\\n\\n [Securities](https://www.investopedia.com/terms/s/security.asp) that trade on [stock exchanges](https://www.investopedia.com/articles/basics/04/092404.asp) are represented by a series of characters, usually a set of letters. This arrangement is referred to as a ticker symbol. It allows individuals and companies to execute trades for these securities. Traders can recognize the stock exchange on which these companies trade based on the number of letters in the symbol. For instance, stocks that trade on the [New York Stock Exchange](https://www.investopedia.com/terms/n/nyse.asp) (NYSE) have three letters while those on the Nasdaq have four.\\n\\n\\n\\n\\n Publicly-traded stocks also come with suffixes that alert [shareholders](https://www.investopedia.com/terms/s/shareholder.asp) to specific situations pertinent to the company. These suffixes appear as a fifth-letter identifier following a dot after a company's ticker symbol. The letter J is one of those suffixes. This designation identifies public security issues that have [voting rights](https://www.investopedia.com/ask/answers/040315/what-can-shareholders-vote.asp). J also reveals that there is more than one issue of a company’s common stock. For example, Google offers two classes of stock to the public—one is voting shares and the other is non-voting.\\n\\n\\n\\n\\n The letter J is only added temporarily when there is a shareholder vote situation and is removed when the situation has been resolved. Common stock with voting rights is considered [voting stock](https://www.investopedia.com/terms/v/votingshares.asp). The majority\\xa0of common stock has voting rights. Voting stock, which carries voting rights, allows a shareholder to vote during a shareholder vote situation. The items that might require a shareholder vote include voting on board of director members or corporate transactions like [mergers](https://www.investopedia.com/terms/m/merger.asp).\\xa0The exchange removes the designation once the shareholder vote situation is complete.\\n\\n\\n\\n\\n### \\n\\n\\nSince its ticker symbols are comprised of three letters, the NYSE uses a fourth letter to identify unique instances where the issuance varies from normal conditions.\\n\\n\\n## J vs. Other Letter Designations\\n\\n\\n The Nasdaq uses a variety of letters, which are called fifth-letter designations, to distinguish stock issuances and the rights that come along with them. J is just one of those designations. As mentioned above, J is a temporary addition to a stock's ticker symbol. Like J, the letter D is also a temporary suffix. D represents a [new issue](https://www.investopedia.com/terms/n/newissue.asp), noting that it’s a corporate reorganization.\\n\\n\\n\\n\\n If you see a ticker symbol that has the letter H after a dot, it means that the issuance is the second [preferred bond](https://www.investopedia.com/articles/active-trading/111114/preferred-stocks-versus-bonds-how-choose.asp) of the company. The K at the end of a symbol means the stock is non-voting.\\n\\n\\n\\n\\n The letter E means the company is delinquent with a\\xa0[Securities and Exchange Commission](https://www.investopedia.com/terms/s/sec.asp) (SEC) filing, while C means the company does not meet all requirements for listing on the Nasdaq. An A or B means it's the company's A or B shares, respectively, and most of the various other letters deal with being a preferred, [convertible](https://www.investopedia.com/terms/c/convertibles.asp), or rights issuance.\\n\\n\\n\"}, vector=None, shard_key=None),\n",
       " ScoredPoint(id=4506, version=0, score=0.2745959114848664, payload={'title': 'Term Loan Definition, Types, and Common Attributes', 'source': 'https://www.investopedia.com/terms/t/termloan.asp', 'page_content': \"## What Is a Term Loan?\\n\\n\\n A term loan provides borrowers with a lump sum of cash upfront in exchange for specific borrowing terms. Term loans are normally meant for established small businesses with sound [financial statements](https://www.investopedia.com/terms/f/financial-statements.asp). In exchange for a specified amount of cash, the borrower agrees to a certain repayment schedule with a fixed or [floating interest rate](https://www.investopedia.com/terms/f/floatinginterestrate.asp). Term loans may require substantial [down payments](https://www.investopedia.com/terms/d/down_payment.asp) to reduce the payment amounts and the total cost of the loan.\\n\\n\\n\\n\\n### Key Takeaways\\n\\n\\n* A term loan provides borrowers with a lump sum of cash upfront in exchange for specific borrowing terms.\\n* Borrowers agree to pay their lenders a fixed amount over a certain repayment schedule with either a fixed or floating interest rate.\\n* Term loans are commonly used by small businesses to purchase fixed assets, such as equipment or a new building.\\n* Borrowers prefer term loans because they offer more flexibility and lower interest rates.\\n* Short and intermediate-term loans may require balloon payments while long-term facilities come with fixed payments.\\n\\n## Understanding Term Loans\\n\\n\\n Term loans are commonly granted to small businesses that need cash to purchase equipment, a new building for their production processes, or any other [fixed assets](https://www.investopedia.com/terms/f/fixedasset.asp) to keep their businesses going. Some businesses borrow the cash they need to operate on a month-to-month basis. Many banks have established term loan programs specifically to help companies in this way.\\n\\n\\n\\n\\n Business owners apply for term loans the same way they would any other credit facility—by approaching their lender. They must provide statements and other financial evidence demonstrating their [creditworthiness](https://www.investopedia.com/terms/c/credit-worthiness.asp). Approved borrowers get a [lump sum](https://www.investopedia.com/terms/l/lump-sum-payment.asp) of cash and are required to make payments over a certain period of time, usually on a monthly or quarterly repayment schedule.\\xa0\\n\\n\\n\\n\\n Term loans carry a fixed or [variable interest rate](https://www.investopedia.com/terms/v/variableinterestrate.asp) and a set maturity date. If the proceeds are used to finance the purchase of an asset, the\\xa0[useful life](https://www.investopedia.com/terms/u/usefullife.asp)\\xa0of that asset can impact the repayment schedule. The loan requires collateral and a rigorous approval process to reduce the risk of [default](https://www.investopedia.com/terms/d/default2.asp) or failure to make payments. As noted above, some lenders may require down payments before they advance the loan.\\n\\n\\n\\n\\n Borrowers often choose term loans for several reasons, including:\\n\\n\\n\\n\\n* Simple application process\\n* Receiving an upfront lump sum of cash\\n* Specified payments\\n* Lower interest rates\\n\\n\\n\\n Taking out a term loan also frees up cash from a company's cash flow in order to use it elsewhere.\\n\\n\\n\\n\\n### \\n\\n\\nVariable-rate term loans are based on a benchmark rate like the U.S. prime rate or the [London InterBank Offered Rate](https://www.investopedia.com/terms/l/libor.asp) (LIBOR).\\n\\n\\n## Types of Term Loans\\n\\n\\n Term loans come in several varieties, usually reflecting the lifespan of the loan. These include:\\n\\n\\n\\n\\n* **Short-term loans:** These types of term loans are usually offered to firms that don't qualify for a line of credit. They generally run less than a year, though they can also refer to a loan of up to 18 months.\\n* **Intermediate-term loans:** These loans generally run between one to three years and are paid in monthly installments from a company’s [cash flow](https://www.investopedia.com/terms/c/cashflow.asp).\\n* **Long-term loans:** These loans last anywhere between three to 25 years. They use company assets as [collateral](https://www.investopedia.com/terms/c/collateral.asp) and require monthly or quarterly payments from profits or cash flow. They limit other financial commitments the company may take on, including other debts, [dividends](https://www.investopedia.com/terms/d/dividend.asp), or principals' salaries,\\xa0and can require an amount of profit\\xa0set aside specifically for loan repayment.\\n\\n\\n\\n Both short- and intermediate-term loans may also be balloon loans and come with [balloon payments](https://www.investopedia.com/terms/b/balloon-payment.asp). This means the final installment swells or balloons into a much larger amount than any of the previous ones.\\n\\n\\n\\n\\n### \\n\\n\\nWhile the principal of a term loan is not technically due until maturity, most term loans operate on a specified schedule requiring a specific payment size at certain intervals.\\n\\n\\n## Example of a Term Loan\\n\\n\\n A [Small Business Administration](https://www.investopedia.com/terms/s/small-business-administration.asp) (SBA) loan, officially known as a 7(a) guaranteed loan, encourages long-term financing. [Short-term loans](https://www.investopedia.com/best-short-term-business-loans-5088589) and revolving\\xa0credit lines are also available to help with a company’s immediate and cyclical working capital needs.\\n\\n\\n\\n\\n Maturities for long-term loans vary according to [the ability to repay](https://www.investopedia.com/terms/a/ability-to-repay.asp), the purpose of the loan, and the useful life of the financed asset. Maximum [maturity dates](https://www.investopedia.com/terms/m/maturitydate.asp) are generally 25 years for real estate, up to ten years for working capital, and ten years for most other loans. The borrower repays the loan with monthly principal and interest payments.\\n\\n\\n\\n\\n As with any loan, an SBA fixed-rate loan payment remains the same because the interest rate is constant. Conversely, a variable-rate loan's payment amount can vary since the interest rate fluctuates. A lender may establish an SBA loan with interest-only payments during a company's startup or [expansion](https://www.investopedia.com/terms/e/expansion.asp) phase. As a result, the business has time to generate income before making full loan payments. Most SBA loans do not allow balloon payments.\\n\\n\\n\\n\\n The SBA charges the borrower a [prepayment](https://www.investopedia.com/terms/p/prepayment.asp) fee only if the loan has a maturity of 15 years or longer. Business and personal assets\\xa0secure every loan\\xa0until the recovery value equals the loan amount or until the borrower has pledged\\xa0all assets\\xa0as reasonably available.\\n\\n\\n\\n\\n ## Why Do Businesses Get Term Loans?\\n\\n\\nA term loan is usually meant for equipment, real estate, or working capital paid off between one and 25 years. A small business often uses the cash from a term loan to purchase fixed assets, such as equipment or a new building for its production process. Some businesses borrow the cash they need to operate from month to month. Many banks have established term-loan programs specifically to help companies in this way.\\n\\n\\n\\n\\n ## What Are the Types of Term Loans?\\n\\n\\nTerm loans come in several varieties, usually reflecting the lifespan of the loan. A short-term loan, usually offered to firms that don't qualify for a line of credit, generally runs less than a year, though it can also refer to a loan of up to 18 months or so. An intermediate-term loan generally runs more than one to three years and is paid in monthly installments from a company’s cash flow. A long-term loan runs for three to 25 years, uses company assets as collateral, and requires monthly or quarterly payments from profits or cash flow.\\n\\n\\n\\n\\n ## What Are the Common Attributes of Term Loans?\\n\\n\\nTerm loans carry a fixed or variable interest rate, a monthly or quarterly repayment schedule, and a set maturity date. If the loan is used to finance an asset purchase, the useful life of that asset can impact the repayment schedule. The loan requires collateral and a rigorous approval process to reduce the risk of default or failure to make payments. However, term loans generally carry no penalties if they are paid off ahead of schedule.\\n\\n\\n\"}, vector=None, shard_key=None),\n",
       " ScoredPoint(id=2724, version=0, score=0.27346914070053335, payload={'title': \"Jobseeker's Allowance (JSA): Meaning, Types, FAQs\", 'source': 'https://www.investopedia.com/terms/j/job-seekers-allowance-jsa.asp', 'page_content': '## What Is the Jobseeker\\'s Allowance? (JSA)\\n\\n\\n The Jobseeker\\'s Allowance (JSA) is a benefit for unemployed individuals in the U.K. who are actively seeking work. The allowance is intended to help minimize the [cost of living](https://www.investopedia.com/terms/c/cost-of-living.asp) for those seeking full-time employment.\\n\\n\\n\\n\\n### Key Takeaways\\n\\n\\n* The Jobseeker\\'s Allowance (JSA) is an unemployment benefit available to certain unemployed citizens in the U.K. who are looking for work.\\n* Recipients seeking the JSA must prove that they are actively seeking work and are willing to take any job that pays a reasonable wage.\\n* Individuals applying must be allowed to live and work in the U.K. and generally be at least 18 (with some exceptions).\\n* Applicants must either be unemployed or not working more than 16 hours a week; they cannot be full-time students.\\n\\n## Understanding the Jobseeker\\'s Allowance (JSA)\\n\\n\\n The Jobseeker\\'s Allowance is a conditions-based benefit, meaning recipients must meet certain conditions in order to retain eligibility for payments. Applicants who have had previous employment must submit a copy of their [P45 Form](https://www.investopedia.com/terms/p/p45-tax.asp) from their last employer. The P45 lists information about previous income and the total taxes paid by the employee.\\n\\n\\n\\n\\n The main requirement for receiving the JSA is the recipient must provide proof on an ongoing basis that they are actively looking for employment. This condition was introduced to prevent [unemployment benefits](https://www.investopedia.com/terms/u/unemployment-compensation.asp) from becoming too easily available and accessible.\\n\\n\\n\\n\\n## Precursors to the JSA\\n\\n\\n The first unemployment benefits in the U.K. were paid in 1911 with the passage of the National Insurance Act. The act covered 2.5 million workers and payments were intended as a supplement to other sources of income.\\n\\n\\n\\n\\n High [unemployment rates](https://www.investopedia.com/terms/u/unemploymentrate.asp) following the end of World War I led to the creation of the Unemployment Insurance Act of 1920. This provided weekly unemployment benefits for 15 weeks.\\n\\n\\n\\n\\n In 1921, the government introduced the \"seeking work\" test as a condition to receive benefits. The test required recipients to show they were genuinely seeking employment and willing to accept any job paying a reasonable wage. Unemployment benefits have continued to evolve over the years, leading to the Jobseeker\\'s Allowance.\\n\\n\\n\\n\\n## Eligibility for the JSA\\n\\n\\n The Jobseeker\\'s Allowance is available to an individual who has the right to work in the U.K. and lives in England, Scotland, or Wales. They must be under the state pension age but older than 18 (although some 16- or 17-year-old workers may qualify). They must be available for work, not a full-time student, and not be working more than 16 hours per week.\\n\\n\\n\\n\\n The JSA recipient must sign on at Jobcentre Plus every two weeks, allowing the Jobcentre to assess whether sufficient efforts are being made to secure employment. Benefits may be stopped if the Jobcentre determines the claimant is not fulfilling their job-seeking obligations, is failing to attend interviews, or is turning down offers of employment or training.\\n\\n\\n\\n\\n### JSA Calculator\\n\\n\\nA [Jobseeker\\'s Allowance Calculator](https://www.gov.uk/benefits-calculators) is available on the U.K. Government website.\\n\\n\\n## Types of JSA\\n\\n\\n There are three types of Jobseeker\\'s Allowance: new style JSA, contribution-based JSA, and income-based JSA. Individuals who\\'ve worked for two to three years and have paid Class 1 [National Insurance Contributions](https://www.investopedia.com/terms/n/national-insurance-contributions-nic.asp) are eligible for the new style JSA. Payments last for six months and the income and savings of the recipient\\'s partner do not impact their benefits.\\n\\n\\n\\n\\n The contribution-based JSA is available for those who receive or who are entitled to receive severe disability premiums. In addition, they must have also paid Class 1 National Insurance Contributions over the past two to three years.\\n\\n\\n\\n\\n The income-based JSA is for those who receive or who are entitled to receive severe disability premiums but haven\\'t worked over the past two to three years. The recipient must have £16,000 or less in savings (including the recipient\\'s partner\\'s savings). In addition, the claimant\\'s partner cannot be working more than 24 hours per week.\\n\\n\\n\\n\\n ## How Much Is the Jobseeker\\'s Allowance in the U.K.?\\n\\n\\nIf you qualify for the Jobseeker\\'s Allowance in the U.K., you may be eligible for up to £67.20 per week if you are 18 to 24 or £84.80 per week if you are 25 and over. The exact amount will depend on various factors.\\n\\n\\n\\n\\n ## How Does the Jobseeker\\'s Allowance Work in the U.K.?\\n\\n\\nThe Jobseeker\\'s Allowance in the U.K. seeks to assist unemployed individuals with the cost of living. If unemployed individuals have paid into the National Insurance, then they will receive a non-means-tested contribution, while those who have not paid into the system will receive means-based-tested contributions.\\n\\n\\n\\n\\n ## Do I Have to Register as Unemployed in the U.K.?\\n\\n\\nTo receive benefits from the Jobseeker\\'s Allowance program or the Universal Credit program in the U.K., you do have to register with Jobcentre Plus.\\n\\n\\n\\n\\n## The Bottom Line\\n\\n\\n The Jobseeker\\'s Allowance program in the U.K. helps reduce the cost of living for those that are currently [unemployed](https://www.investopedia.com/terms/u/unemployment.asp) and looking for work. The program comes with various factors for eligibility as well as follow-ups with job centers.\\n\\n\\n'}, vector=None, shard_key=None)]"
      ]
     },
     "execution_count": 21,
     "metadata": {},
     "output_type": "execute_result"
    }
   ],
   "source": [
    "points"
   ]
  },
  {
   "cell_type": "code",
   "execution_count": null,
   "metadata": {},
   "outputs": [],
   "source": []
  }
 ],
 "metadata": {
  "language_info": {
   "name": "python"
  }
 },
 "nbformat": 4,
 "nbformat_minor": 2
}
