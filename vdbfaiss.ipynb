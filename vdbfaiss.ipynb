{
 "cells": [
  {
   "cell_type": "code",
   "execution_count": 9,
   "metadata": {},
   "outputs": [],
   "source": [
    "import datasets\n",
    "import faiss\n",
    "import numpy as np\n",
    "from langchain.docstore.document import Document as LangchainDocument\n",
    "from langchain_community.embeddings import HuggingFaceEmbeddings\n",
    "from sentence_transformers import SentenceTransformer"
   ]
  },
  {
   "cell_type": "code",
   "execution_count": 4,
   "metadata": {},
   "outputs": [],
   "source": [
    "ds = datasets.load_dataset(\"openvega-simon/investopedia\", split=\"train\")\n",
    "RAW_KNOWLEDGE_BASE = [\n",
    "    LangchainDocument(page_content=doc[\"md_content\"], metadata={\"title\": doc[\"title\"], \"source\": doc[\"url\"]})\n",
    "    for doc in ds\n",
    "]"
   ]
  },
  {
   "cell_type": "code",
   "execution_count": 10,
   "metadata": {},
   "outputs": [
    {
     "name": "stderr",
     "output_type": "stream",
     "text": [
      "/workspace/ABCFinance/hasan/lib/python3.12/site-packages/huggingface_hub/file_download.py:1132: FutureWarning: `resume_download` is deprecated and will be removed in version 1.0.0. Downloads always resume when possible. If you want to force a new download, use `force_download=True`.\n",
      "  warnings.warn(\n"
     ]
    }
   ],
   "source": [
    "embeddings_model = SentenceTransformer(\"all-MiniLM-L6-v2\")"
   ]
  },
  {
   "cell_type": "code",
   "execution_count": 13,
   "metadata": {},
   "outputs": [],
   "source": [
    "from tqdm import tqdm"
   ]
  },
  {
   "cell_type": "code",
   "execution_count": 14,
   "metadata": {},
   "outputs": [
    {
     "name": "stderr",
     "output_type": "stream",
     "text": [
      "100%|██████████| 4723/4723 [00:00<00:00, 1682209.39it/s]\n"
     ]
    }
   ],
   "source": [
    "texts = [doc.page_content for doc in tqdm(RAW_KNOWLEDGE_BASE)]\n",
    "embeddings = embeddings_model.encode(texts, normalize_embeddings=True)"
   ]
  },
  {
   "cell_type": "code",
   "execution_count": 17,
   "metadata": {},
   "outputs": [],
   "source": [
    "embeddings_np = np.array(embeddings).astype('float32')"
   ]
  },
  {
   "cell_type": "code",
   "execution_count": 18,
   "metadata": {},
   "outputs": [],
   "source": [
    "index = faiss.IndexFlatIP(embeddings_np.shape[1])  # Using inner product (cosine similarity)\n",
    "index.add(embeddings_np)"
   ]
  },
  {
   "cell_type": "code",
   "execution_count": 19,
   "metadata": {},
   "outputs": [],
   "source": [
    "faiss.write_index(index, \"faiss_index.bin\")"
   ]
  },
  {
   "cell_type": "code",
   "execution_count": 21,
   "metadata": {},
   "outputs": [],
   "source": [
    "import json"
   ]
  },
  {
   "cell_type": "code",
   "execution_count": 22,
   "metadata": {},
   "outputs": [],
   "source": [
    "metadata = [doc.metadata for doc in RAW_KNOWLEDGE_BASE]\n",
    "with open(\"metadata.json\", \"w\") as f:\n",
    "    json.dump(metadata, f)"
   ]
  },
  {
   "cell_type": "code",
   "execution_count": 23,
   "metadata": {},
   "outputs": [],
   "source": [
    "index = faiss.read_index(\"faiss_index.bin\")"
   ]
  },
  {
   "cell_type": "code",
   "execution_count": 24,
   "metadata": {},
   "outputs": [],
   "source": [
    "with open(\"metadata.json\", \"r\") as f:\n",
    "    loaded_metadata = json.load(f)"
   ]
  },
  {
   "cell_type": "code",
   "execution_count": 25,
   "metadata": {},
   "outputs": [],
   "source": [
    "def search_faiss(query, k=5):\n",
    "    query_embedding = embeddings_model.encode([query], normalize_embeddings=True).astype('float32')\n",
    "    D, I = index.search(query_embedding, k)\n",
    "    results = [\n",
    "        {\n",
    "            \"doc\": RAW_KNOWLEDGE_BASE[i].page_content,\n",
    "            \"metadata\": loaded_metadata[i],\n",
    "            \"score\": D[0][j]\n",
    "        }\n",
    "        for j, i in enumerate(I[0])\n",
    "    ]\n",
    "    return results"
   ]
  },
  {
   "cell_type": "code",
   "execution_count": 28,
   "metadata": {},
   "outputs": [
    {
     "name": "stdout",
     "output_type": "stream",
     "text": [
      "Title: 6 Tips for Getting Approved for a Mortgage, Score: 0.6068446636199951, Source: https://www.investopedia.com/articles/mortgage-real-estate/08/mortgage-application-rejected.asp\n",
      "Title: Should You Save for a Home or Retirement?, Score: 0.5993292331695557, Source: https://www.investopedia.com/save-for-a-home-or-retirement-8599275\n",
      "Title: How To Save for a House: A Step-by-Step Guide, Score: 0.5908926725387573, Source: https://www.investopedia.com/articles/investing/092815/where-should-i-keep-my-down-payment-savings.asp\n",
      "Title: Do You Need a Savings Plan? And How Do You Make One?, Score: 0.5228768587112427, Source: https://www.investopedia.com/make-savings-plan-5208028\n",
      "Title: Mortgage Calculator, Score: 0.5062568187713623, Source: https://www.investopedia.com/mortgage-calculator-5084794\n"
     ]
    }
   ],
   "source": [
    "results = search_faiss(\"How to save for a house\")\n",
    "for result in results:\n",
    "    print(f\"Title: {result['metadata']['title']}, Score: {result['score']}, Source: {result['metadata']['source']}\")\n"
   ]
  },
  {
   "cell_type": "code",
   "execution_count": null,
   "metadata": {},
   "outputs": [],
   "source": []
  }
 ],
 "metadata": {
  "kernelspec": {
   "display_name": "hasan",
   "language": "python",
   "name": "python3"
  },
  "language_info": {
   "codemirror_mode": {
    "name": "ipython",
    "version": 3
   },
   "file_extension": ".py",
   "mimetype": "text/x-python",
   "name": "python",
   "nbconvert_exporter": "python",
   "pygments_lexer": "ipython3",
   "version": "3.12.3"
  }
 },
 "nbformat": 4,
 "nbformat_minor": 2
}
