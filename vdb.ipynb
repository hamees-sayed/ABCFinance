{
 "cells": [
  {
   "cell_type": "code",
   "execution_count": 1,
   "metadata": {},
   "outputs": [],
   "source": [
    "import csv\n",
    "from sentence_transformers import SentenceTransformer\n",
    "from qdrant_client import QdrantClient, models, conversions\n",
    "from tqdm.notebook import tqdm"
   ]
  },
  {
   "cell_type": "code",
   "execution_count": 2,
   "metadata": {},
   "outputs": [],
   "source": [
    "client = QdrantClient(path=\"vec.db\")"
   ]
  },
  {
   "cell_type": "code",
   "execution_count": 8,
   "metadata": {},
   "outputs": [],
   "source": [
    "reader = csv.DictReader(open(\"nse.csv\"))"
   ]
  },
  {
   "cell_type": "code",
   "execution_count": 9,
   "metadata": {},
   "outputs": [
    {
     "name": "stdout",
     "output_type": "stream",
     "text": [
      "['SYMBOL', 'NAME OF COMPANY', 'SERIES', 'DATE OF LISTING', 'PAID UP VALUE', 'MARKET LOT', 'ISIN NUMBER', 'FACE VALUE']\n"
     ]
    }
   ],
   "source": [
    "print(reader.fieldnames)"
   ]
  },
  {
   "cell_type": "code",
   "execution_count": 10,
   "metadata": {},
   "outputs": [],
   "source": [
    "# ndq = pd.DataFrame(reader).to_dict(orient=\"list\")\n",
    "nse = list(reader)"
   ]
  },
  {
   "cell_type": "code",
   "execution_count": 11,
   "metadata": {},
   "outputs": [
    {
     "data": {
      "text/plain": [
       "1972"
      ]
     },
     "execution_count": 11,
     "metadata": {},
     "output_type": "execute_result"
    }
   ],
   "source": [
    "len(nse)"
   ]
  },
  {
   "cell_type": "code",
   "execution_count": 12,
   "metadata": {},
   "outputs": [
    {
     "data": {
      "text/plain": [
       "{'SYMBOL': '20MICRONS',\n",
       " 'NAME OF COMPANY': '20 Microns Limited',\n",
       " 'SERIES': 'EQ',\n",
       " 'DATE OF LISTING': '06-OCT-2008',\n",
       " 'PAID UP VALUE': '5',\n",
       " 'MARKET LOT': '1',\n",
       " 'ISIN NUMBER': 'INE144J01027',\n",
       " 'FACE VALUE': '5'}"
      ]
     },
     "execution_count": 12,
     "metadata": {},
     "output_type": "execute_result"
    }
   ],
   "source": [
    "nse[0]"
   ]
  },
  {
   "cell_type": "code",
   "execution_count": 13,
   "metadata": {},
   "outputs": [
    {
     "name": "stderr",
     "output_type": "stream",
     "text": [
      "/home/advait/miniconda3/envs/fetch/lib/python3.10/site-packages/huggingface_hub/file_download.py:1132: FutureWarning: `resume_download` is deprecated and will be removed in version 1.0.0. Downloads always resume when possible. If you want to force a new download, use `force_download=True`.\n",
      "  warnings.warn(\n"
     ]
    }
   ],
   "source": [
    "encoder = SentenceTransformer(\"all-MiniLM-L6-v2\", device=\"cuda\")"
   ]
  },
  {
   "cell_type": "code",
   "execution_count": 14,
   "metadata": {},
   "outputs": [
    {
     "name": "stderr",
     "output_type": "stream",
     "text": [
      "/tmp/ipykernel_17331/693838036.py:1: DeprecationWarning: `recreate_collection` method is deprecated and will be removed in the future. Use `collection_exists` to check collection existence and `create_collection` instead.\n",
      "  client.recreate_collection(\n"
     ]
    },
    {
     "data": {
      "text/plain": [
       "True"
      ]
     },
     "execution_count": 14,
     "metadata": {},
     "output_type": "execute_result"
    }
   ],
   "source": [
    "client.recreate_collection(\n",
    "    collection_name=\"nse\",\n",
    "    vectors_config=models.VectorParams(\n",
    "        size=encoder.get_sentence_embedding_dimension(),  # Vector size is defined by used model\n",
    "        distance=models.Distance.COSINE,\n",
    "    ),\n",
    ")"
   ]
  },
  {
   "cell_type": "code",
   "execution_count": 15,
   "metadata": {},
   "outputs": [
    {
     "data": {
      "application/vnd.jupyter.widget-view+json": {
       "model_id": "d81b13c2d4324a3fba5e8cda29f54a7f",
       "version_major": 2,
       "version_minor": 0
      },
      "text/plain": [
       "  0%|          | 0/1972 [00:00<?, ?it/s]"
      ]
     },
     "metadata": {},
     "output_type": "display_data"
    }
   ],
   "source": [
    "client.upload_points(\n",
    "    collection_name=\"nse\",\n",
    "    points=[\n",
    "        models.PointStruct(\n",
    "            id=idx,\n",
    "            vector=encoder.encode(f'''{doc[\"SYMBOL\"]}: {doc[\"NAME OF COMPANY\"]}''').tolist(), payload=doc\n",
    "        )\n",
    "        for idx, doc in tqdm(enumerate(nse), total=len(nse))\n",
    "    ],\n",
    "    parallel=4,\n",
    ")"
   ]
  },
  {
   "cell_type": "code",
   "execution_count": 30,
   "metadata": {},
   "outputs": [
    {
     "data": {
      "text/plain": [
       "[ScoredPoint(id=1537, version=0, score=0.812858942231983, payload={'SYMBOL': 'SBIN', 'NAME OF COMPANY': 'State Bank of India', 'SERIES': 'EQ', 'DATE OF LISTING': '01-MAR-1995', 'PAID UP VALUE': '1', 'MARKET LOT': '1', 'ISIN NUMBER': 'INE062A01020', 'FACE VALUE': '1'}, vector=None, shard_key=None),\n",
       " ScoredPoint(id=1535, version=0, score=0.6722810397755001, payload={'SYMBOL': 'SBICARD', 'NAME OF COMPANY': 'SBI Cards and Payment Services Limited', 'SERIES': 'EQ', 'DATE OF LISTING': '16-MAR-2020', 'PAID UP VALUE': '10', 'MARKET LOT': '1', 'ISIN NUMBER': 'INE018E01016', 'FACE VALUE': '10'}, vector=None, shard_key=None),\n",
       " ScoredPoint(id=221, version=0, score=0.6668894581716207, payload={'SYMBOL': 'BANKINDIA', 'NAME OF COMPANY': 'Bank of India', 'SERIES': 'EQ', 'DATE OF LISTING': '30-APR-1997', 'PAID UP VALUE': '10', 'MARKET LOT': '1', 'ISIN NUMBER': 'INE084A01016', 'FACE VALUE': '10'}, vector=None, shard_key=None)]"
      ]
     },
     "execution_count": 30,
     "metadata": {},
     "output_type": "execute_result"
    }
   ],
   "source": [
    "points = client.search(\n",
    "    collection_name=\"nse\",\n",
    "    query_vector=encoder.encode(\"SBI Bank\").tolist(),\n",
    "    # Symbol should not have ^ in it\n",
    "    # query_filter=models.Filter(\n",
    "    #     must_not=[\n",
    "    #         models.FieldCondition(key=\"Symbol\", match=models.MatchValue(value=\"^\")),\n",
    "    #     ]\n",
    "    # ),\n",
    "    limit=3,\n",
    ")\n",
    "\n",
    "points"
   ]
  }
 ],
 "metadata": {
  "kernelspec": {
   "display_name": "fetch",
   "language": "python",
   "name": "python3"
  },
  "language_info": {
   "codemirror_mode": {
    "name": "ipython",
    "version": 3
   },
   "file_extension": ".py",
   "mimetype": "text/x-python",
   "name": "python",
   "nbconvert_exporter": "python",
   "pygments_lexer": "ipython3",
   "version": "3.10.14"
  }
 },
 "nbformat": 4,
 "nbformat_minor": 2
}
